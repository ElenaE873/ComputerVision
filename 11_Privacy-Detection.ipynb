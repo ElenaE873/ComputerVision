{
 "cells": [
  {
   "cell_type": "code",
   "execution_count": null,
   "id": "80f675e0",
   "metadata": {},
   "outputs": [],
   "source": [
    "def getFace(d):\n",
    "    '''Extracts the face rectangle from the image using the coordinates of the detected.'''\n",
    "    #X and Y starting points of the face rectangle\n",
    "    x, y = d['r'], d['c']\n",
    "    \n",
    "    #the width and height of the face rectangle\n",
    "    width, height = d['r'] + d['width'], d['c'] + d['height']\n",
    "    \n",
    "    #extract the detected face\n",
    "    face = image[x:width, y:height]\n",
    "    \n",
    "    return face"
   ]
  },
  {
   "cell_type": "code",
   "execution_count": null,
   "id": "9166ca5a",
   "metadata": {},
   "outputs": [],
   "source": [
    "#detect the faces\n",
    "detected = detector.detect_multi_scale(img=image,\n",
    "                                      scale_factor=1.2,\n",
    "                                      step_ratio=1,\n",
    "                                      min_size=(50,50),\n",
    "                                      max_size(100,100))\n",
    "\n",
    "#for each detected face\n",
    "for d in detected:\n",
    "    \n",
    "    #obtain the face cropped from detected coordinates\n",
    "    face = getFace(d)\n",
    "    \n",
    "    #apply gaussian filter to extracted face\n",
    "    gaussian_face = gaussian(face, multichannel=True, sigma=10)\n",
    "    \n",
    "    #merge this blurry face to the final image and show it\n",
    "    resulting_image = mergeBlurryFace(image, gaussian_face)"
   ]
  },
  {
   "cell_type": "code",
   "execution_count": null,
   "id": "03a1ec08",
   "metadata": {},
   "outputs": [],
   "source": [
    "def mergeBlurryFace(original, gaussian_image):\n",
    "    #X and Y starting points of the face rectangle\n",
    "    x, y = d['r'], d['c']\n",
    "    \n",
    "    #the width and height of the face rectangle\n",
    "    width, height = d['r'] + d['width'], d['c'] + d['height']\n",
    "    \n",
    "    original[x:width, y:height] = guassian_image\n",
    "    return original"
   ]
  }
 ],
 "metadata": {
  "kernelspec": {
   "display_name": "Python 3 (ipykernel)",
   "language": "python",
   "name": "python3"
  },
  "language_info": {
   "codemirror_mode": {
    "name": "ipython",
    "version": 3
   },
   "file_extension": ".py",
   "mimetype": "text/x-python",
   "name": "python",
   "nbconvert_exporter": "python",
   "pygments_lexer": "ipython3",
   "version": "3.9.7"
  }
 },
 "nbformat": 4,
 "nbformat_minor": 5
}
