{
 "cells": [
  {
   "cell_type": "markdown",
   "id": "94b98084",
   "metadata": {},
   "source": [
    "### Thresholding"
   ]
  },
  {
   "cell_type": "markdown",
   "id": "0229c8c2",
   "metadata": {},
   "source": [
    "- partitioning the foreground and background of **grayscale images**.\n",
    "- this essentially turns an image into black and white\n",
    "- turning a pixel value to white or black based on the if statement of threshold"
   ]
  },
  {
   "cell_type": "markdown",
   "id": "42feb45c",
   "metadata": {},
   "source": [
    "##### Thresholding is the simplest method of image segmentation"
   ]
  },
  {
   "cell_type": "markdown",
   "id": "818da035",
   "metadata": {},
   "source": [
    "- 1 - to Isolate objects (ie. object detection, face recognition, etc)\n",
    "- 2 - works best in high contrast grayscale images"
   ]
  },
  {
   "cell_type": "code",
   "execution_count": null,
   "id": "50571b11",
   "metadata": {},
   "outputs": [],
   "source": [
    "#1 - set the threshold value\n",
    "thresh = 150   #arbitrary here, can be any value from 0 255\n",
    "\n",
    "#2 - apply threholding to the image\n",
    "binary = image > thresh\n",
    "\n",
    "#3 - show both original and thresholded image\n",
    "show_image(image, 'Original')\n",
    "show_image(binary, 'Thresholded')"
   ]
  },
  {
   "cell_type": "markdown",
   "id": "2f5e9d3e",
   "metadata": {},
   "source": [
    "#### Inverted Thresholding (aka. inverting the color)"
   ]
  },
  {
   "cell_type": "code",
   "execution_count": null,
   "id": "84b2fa69",
   "metadata": {},
   "outputs": [],
   "source": [
    "binary = image <= thresh  #using the less than or equal operator instead of the greater than"
   ]
  },
  {
   "cell_type": "markdown",
   "id": "c5a892c2",
   "metadata": {},
   "source": [
    "#### Two types of Threshold in Scikit Image"
   ]
  },
  {
   "cell_type": "markdown",
   "id": "95b3e4e5",
   "metadata": {},
   "source": [
    "- 1 - **Global** or histogram based: good for uniform backgrounds\n",
    "- 2 - **Local** or adaptive: good for uneven background illumination"
   ]
  },
  {
   "cell_type": "markdown",
   "id": "736a532a",
   "metadata": {},
   "source": [
    "### Trying more thresholding algorithms"
   ]
  },
  {
   "cell_type": "code",
   "execution_count": null,
   "id": "4e5aa6c8",
   "metadata": {},
   "outputs": [],
   "source": [
    "#using the function that evaluates several global algorithms\n",
    "\n",
    "from skimage.filters import try_all_threshold\n",
    "\n",
    "#all resulting images\n",
    "fig, ax = try_all_threshold(image, verbose=False)\n",
    "\n",
    "#show results\n",
    "show_plot(fig, ax)"
   ]
  },
  {
   "cell_type": "markdown",
   "id": "3844feae",
   "metadata": {},
   "source": [
    "#### Optimal Threshold Value - Global Thresholding"
   ]
  },
  {
   "cell_type": "code",
   "execution_count": null,
   "id": "f42ddc8f",
   "metadata": {},
   "outputs": [],
   "source": [
    "#import the otsu threhold function\n",
    "from skimage.filters import threshold_otsu\n",
    "\n",
    "#the optimal value\n",
    "thresh = threshold_otsu(image)\n",
    "\n",
    "#apply thres to the image\n",
    "binary_global = image > thresh"
   ]
  },
  {
   "cell_type": "markdown",
   "id": "7eead17e",
   "metadata": {},
   "source": [
    "#### Optimal Threshold Value - Local Thresholding"
   ]
  },
  {
   "cell_type": "code",
   "execution_count": null,
   "id": "952522f2",
   "metadata": {},
   "outputs": [],
   "source": [
    "from skimage.filters import threhold_local\n",
    "\n",
    "#set the local neighborhoods; block size of 35 pixels\n",
    "block_size = 35\n",
    "\n",
    "local_thresh = threshold_local(text_image, block_size, \n",
    "                               offset=10)  #optional"
   ]
  }
 ],
 "metadata": {
  "kernelspec": {
   "display_name": "Python 3 (ipykernel)",
   "language": "python",
   "name": "python3"
  },
  "language_info": {
   "codemirror_mode": {
    "name": "ipython",
    "version": 3
   },
   "file_extension": ".py",
   "mimetype": "text/x-python",
   "name": "python",
   "nbconvert_exporter": "python",
   "pygments_lexer": "ipython3",
   "version": "3.9.7"
  }
 },
 "nbformat": 4,
 "nbformat_minor": 5
}
