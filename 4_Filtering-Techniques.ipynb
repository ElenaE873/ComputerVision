{
 "cells": [
  {
   "cell_type": "markdown",
   "id": "59c2cd71",
   "metadata": {},
   "source": [
    "### Filtering Technique"
   ]
  },
  {
   "cell_type": "markdown",
   "id": "c085e021",
   "metadata": {},
   "source": [
    "It is a neighborhood (blocks or sections) operation."
   ]
  },
  {
   "cell_type": "markdown",
   "id": "6c068bc3",
   "metadata": {},
   "source": [
    "used for:\n",
    "- enhacing or modifying an image"
   ]
  },
  {
   "cell_type": "markdown",
   "id": "9b6382bb",
   "metadata": {},
   "source": [
    "A filter is a mathematical function that is added to an image.\n",
    "\n",
    "Used to:\n",
    "- emphasize or remove certain features"
   ]
  },
  {
   "cell_type": "markdown",
   "id": "cbf9aca2",
   "metadata": {},
   "source": [
    "Types:\n",
    "- smoothing: to blurr an image or to reduce noise\n",
    "    - can be achieved by **Gaussian filter** (blurs image and reduces contrast)\n",
    "- sharpening: contrast enhacement to spot important details in low contrast images (like medical imaging)\n",
    "- edge detection: finding boundaries of objects within images\n",
    "    - works by: **decting discontinuities in brightness**"
   ]
  },
  {
   "cell_type": "markdown",
   "id": "685ee0a7",
   "metadata": {},
   "source": [
    "#### Edge Detection - Sobel function"
   ]
  },
  {
   "cell_type": "code",
   "execution_count": null,
   "id": "a055fc6d",
   "metadata": {},
   "outputs": [],
   "source": [
    "#plot comparison function\n",
    "def plot_comparison(origina, filtered, title_filtered):\n",
    "    fig, (ax1, ax2) = plt.subplots(ncols=2, figsize=(8,6), sharex=True, sharey=True)\n",
    "    ax1.imshow(original, cmap=plt.cm.gray)\n",
    "    ax1.set_title('original')\n",
    "    ax1.axis('off')\n",
    "    ax2.imshow(filtered, cmap=plt.cm.gray)\n",
    "    ax2.set_title(title_filtered)\n",
    "    ax2.axis('off')"
   ]
  },
  {
   "cell_type": "code",
   "execution_count": null,
   "id": "5d0133ba",
   "metadata": {},
   "outputs": [],
   "source": [
    "from skimage.filters import sobel\n",
    "\n",
    "#apply deetection filter, by passing image as the parameter to the function sobel\n",
    "edge_sobel = sobel(image)\n",
    "\n",
    "#original and resulting image to compare\n",
    "plot_comparison(image, edge_sobel, \"Edge with Sobel\")"
   ]
  },
  {
   "cell_type": "markdown",
   "id": "d7786ec4",
   "metadata": {},
   "source": [
    "#### Smoothing"
   ]
  },
  {
   "cell_type": "code",
   "execution_count": null,
   "id": "3fa48be7",
   "metadata": {},
   "outputs": [],
   "source": [
    "#1 - import module and function\n",
    "from skimage.filters import gaussian\n",
    "\n",
    "#2 - apply gaussian filter\n",
    "gaussian_image = gaussian(image, \n",
    "                         multichannel=True)  #True if colored, False if black/white\n",
    "\n",
    "#3 - comparing original and resulting image\n",
    "plot_comparison(image, gaussian_image, \"Blurred with Gaussian filter\")"
   ]
  },
  {
   "cell_type": "markdown",
   "id": "552a9c6a",
   "metadata": {},
   "source": [
    "#### Contrast Enhacement"
   ]
  },
  {
   "cell_type": "markdown",
   "id": "f5ffcb0f",
   "metadata": {},
   "source": [
    "Low Contrast Images:\n",
    "- has a small different between its dark and light pixel values, usually **skewed** either:\n",
    "    - to the right (being mostly light)\n",
    "    - to the left (mostly dark)\n",
    "    - or located around the middle (mostly gray)"
   ]
  },
  {
   "cell_type": "markdown",
   "id": "b28db372",
   "metadata": {},
   "source": [
    "##### [type1] Contrast Stretching Technique"
   ]
  },
  {
   "cell_type": "markdown",
   "id": "c25402c2",
   "metadata": {},
   "source": [
    "- to stretch the histogram so the full range of intensity values of the image is filled"
   ]
  },
  {
   "cell_type": "markdown",
   "id": "96456f8d",
   "metadata": {},
   "source": [
    "**[type 2] Histogram Equalization**"
   ]
  },
  {
   "cell_type": "markdown",
   "id": "f8cb1b4b",
   "metadata": {},
   "source": [
    "- Spreads out the **most frequent intensity values**"
   ]
  },
  {
   "cell_type": "markdown",
   "id": "1540692d",
   "metadata": {},
   "source": [
    "3 types:\n",
    "- Standard\n",
    "- Adaptive\n",
    "- Limited Adaptive"
   ]
  },
  {
   "cell_type": "code",
   "execution_count": null,
   "id": "5a5b2b60",
   "metadata": {},
   "outputs": [],
   "source": [
    "#histogram equalization | Standard\n",
    "\n",
    "from skimage import exposure\n",
    "\n",
    "#obtain equalized image\n",
    "image_eq = exposure.equalize_hist(image)\n",
    "\n",
    "#show both to see the differencw\n",
    "show_image(image, 'Original')\n",
    "show_image(image_eq, 'HIstogram equalized')"
   ]
  },
  {
   "cell_type": "markdown",
   "id": "d976071f",
   "metadata": {},
   "source": [
    "**Adaptive** : \"computes several histograms, each corresponding to a distinct part of the image, and uses them to redistribute the lightness values of the image histogram. A type of this method is the Contrastive Limited Adaptive Histogram Equalization (CLAHE) which was developed to prevent over-amplification of noise that adaptive histogram equalization can give rise to. In this image, we see the result of the CLAHE method and it may seem very similar to the standard method.\""
   ]
  },
  {
   "cell_type": "code",
   "execution_count": null,
   "id": "d0a9257f",
   "metadata": {},
   "outputs": [],
   "source": [
    "#CLAHE in scikit-image\n",
    "\n",
    "from skimage import exposure\n",
    "\n",
    "#apply adaptive equalization\n",
    "image_adapeq = exposure.equalize_adapthist(image, clip_limit=0.03)"
   ]
  }
 ],
 "metadata": {
  "kernelspec": {
   "display_name": "Python 3 (ipykernel)",
   "language": "python",
   "name": "python3"
  },
  "language_info": {
   "codemirror_mode": {
    "name": "ipython",
    "version": 3
   },
   "file_extension": ".py",
   "mimetype": "text/x-python",
   "name": "python",
   "nbconvert_exporter": "python",
   "pygments_lexer": "ipython3",
   "version": "3.9.7"
  }
 },
 "nbformat": 4,
 "nbformat_minor": 5
}
