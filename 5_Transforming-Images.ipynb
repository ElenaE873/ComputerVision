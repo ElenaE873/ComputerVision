{
 "cells": [
  {
   "cell_type": "markdown",
   "id": "585db7fb",
   "metadata": {},
   "source": [
    "When transforming images proves useful:\n",
    "- preparing images for classification modeling\n",
    "- optimization and compression of images\n",
    "- save image with the same proportion"
   ]
  },
  {
   "cell_type": "markdown",
   "id": "969f21cb",
   "metadata": {},
   "source": [
    "### Rotating"
   ]
  },
  {
   "cell_type": "markdown",
   "id": "b871a6d6",
   "metadata": {},
   "source": [
    "Rotating images allows for the application of **angles**."
   ]
  },
  {
   "cell_type": "code",
   "execution_count": null,
   "id": "7b84098c",
   "metadata": {},
   "outputs": [],
   "source": [
    "from skimage.transform import rotate\n",
    "\n",
    "image_rotated = rotate(image, -90)  #positive 90 degrees is anticlockwise\n",
    "\n",
    "#show images\n",
    "show_image(image, 'Original')\n",
    "show_image(image_rotated, 'Rotated 90Degrees Clockwise')"
   ]
  },
  {
   "cell_type": "markdown",
   "id": "7120a191",
   "metadata": {},
   "source": [
    "### Rescaling"
   ]
  },
  {
   "cell_type": "code",
   "execution_count": null,
   "id": "4fff9027",
   "metadata": {},
   "outputs": [],
   "source": [
    "#downgrading\n",
    "\n",
    "from skimage.transform import rescale\n",
    "\n",
    "#rescale image to 4x smaller\n",
    "image_rescaled = rescale(image, 1/4, anti_aliasing=True, multichannel=True)\n",
    "\n",
    "#show images\n",
    "show_image(image, 'Original')\n",
    "show_image(image_rescaled, 'Rescaled image')"
   ]
  },
  {
   "cell_type": "markdown",
   "id": "b6aaf2ce",
   "metadata": {},
   "source": [
    "### Aliasing"
   ]
  },
  {
   "cell_type": "markdown",
   "id": "a7448bcf",
   "metadata": {},
   "source": [
    "- a pattern or a rippling effect\n",
    "- makes the image look like it has ripples or waves of a certain proportion\n",
    "- makes the image a bit softer"
   ]
  },
  {
   "cell_type": "markdown",
   "id": "b8e08406",
   "metadata": {},
   "source": [
    "### Resizing"
   ]
  },
  {
   "cell_type": "code",
   "execution_count": null,
   "id": "1ffb4982",
   "metadata": {},
   "outputs": [],
   "source": [
    "from skimage.transform import resize\n",
    "\n",
    "#height and width to resize\n",
    "height = 400\n",
    "width = 500\n",
    "\n",
    "image_resized = resize(image, (height, width), anti_aliasing=True)\n",
    "\n",
    "#show\n",
    "show_image(image, 'Original')\n",
    "show_image(image_resized, 'Rescaled image')"
   ]
  },
  {
   "cell_type": "markdown",
   "id": "17b5f665",
   "metadata": {},
   "source": [
    "### Resizing proportionality"
   ]
  },
  {
   "cell_type": "code",
   "execution_count": null,
   "id": "c09cb805",
   "metadata": {},
   "outputs": [],
   "source": [
    "from skimage.transform import resize\n",
    "\n",
    "#set proportionality so size is 4x smaller\n",
    "height = image.shape[0]/4\n",
    "width = image.shape[1]/4\n",
    "\n",
    "#resize image\n",
    "image_resized = resize(image, (height, width), anti_aliasing=True)\n",
    "\n",
    "show_image(image_resized, 'Resized image')"
   ]
  }
 ],
 "metadata": {
  "kernelspec": {
   "display_name": "Python 3 (ipykernel)",
   "language": "python",
   "name": "python3"
  },
  "language_info": {
   "codemirror_mode": {
    "name": "ipython",
    "version": 3
   },
   "file_extension": ".py",
   "mimetype": "text/x-python",
   "name": "python",
   "nbconvert_exporter": "python",
   "pygments_lexer": "ipython3",
   "version": "3.9.7"
  }
 },
 "nbformat": 4,
 "nbformat_minor": 5
}
