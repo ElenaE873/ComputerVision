{
 "cells": [
  {
   "cell_type": "markdown",
   "id": "681b1c17",
   "metadata": {},
   "source": [
    "### Morphological filtering"
   ]
  },
  {
   "cell_type": "markdown",
   "id": "764db8f1",
   "metadata": {},
   "source": [
    "- Try to remove the imperfections in photos by accounting for **form** and **structure** of objects in the image\n",
    "- better for binary images (but can be extended for grayscale)\n",
    "- morphological operations are **dilation** and **erosion**"
   ]
  },
  {
   "cell_type": "markdown",
   "id": "16e4478c",
   "metadata": {},
   "source": [
    "Dilation\n",
    "- adds pixels to the boundaries of an image\n",
    "\n",
    "Erosion\n",
    "- removes pixels on object boundaries"
   ]
  },
  {
   "cell_type": "markdown",
   "id": "452ecb04",
   "metadata": {},
   "source": [
    "### Erosion"
   ]
  },
  {
   "cell_type": "code",
   "execution_count": null,
   "id": "2b98c585",
   "metadata": {},
   "outputs": [],
   "source": [
    "from skimage import morphology\n",
    "\n",
    "#set structuring element to rectangular-shaped\n",
    "selem = rectangle(12, 6)\n",
    "\n",
    "#obtain eroded image with binary erosion\n",
    "eroded_image = morphology.binary_erosion(image, selem=selem)\n",
    "\n",
    "#can also apply binary erosian with the standard default selem\n",
    "eroded_default = morphology.binary_erosion(image)\n",
    "\n",
    "#show result:\n",
    "plot_comparison(image, eroded_image, 'Erosion')"
   ]
  },
  {
   "cell_type": "markdown",
   "id": "069b625b",
   "metadata": {},
   "source": [
    "### Dilation"
   ]
  },
  {
   "cell_type": "code",
   "execution_count": null,
   "id": "f16e0a7d",
   "metadata": {},
   "outputs": [],
   "source": [
    "from skimage import morphology\n",
    "dilated_image = morphology.binary_dilation(image)"
   ]
  }
 ],
 "metadata": {
  "kernelspec": {
   "display_name": "Python 3 (ipykernel)",
   "language": "python",
   "name": "python3"
  },
  "language_info": {
   "codemirror_mode": {
    "name": "ipython",
    "version": 3
   },
   "file_extension": ".py",
   "mimetype": "text/x-python",
   "name": "python",
   "nbconvert_exporter": "python",
   "pygments_lexer": "ipython3",
   "version": "3.9.7"
  }
 },
 "nbformat": 4,
 "nbformat_minor": 5
}
