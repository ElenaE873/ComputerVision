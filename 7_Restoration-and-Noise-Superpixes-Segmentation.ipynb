{
 "cells": [
  {
   "cell_type": "markdown",
   "id": "9628ecd6",
   "metadata": {},
   "source": [
    "### Image Restoration / Reconstruction"
   ]
  },
  {
   "cell_type": "markdown",
   "id": "b2327d16",
   "metadata": {},
   "source": [
    "Includes:\n",
    "- fixing damaged images\n",
    "- text removal\n",
    "- logo removal\n",
    "- object removal"
   ]
  },
  {
   "cell_type": "markdown",
   "id": "77eb2b20",
   "metadata": {},
   "source": [
    "### Inpainting"
   ]
  },
  {
   "cell_type": "markdown",
   "id": "d1ac2191",
   "metadata": {},
   "source": [
    "- reconstructing lost parts of images\n",
    "- by exploring that is non-damaged in images"
   ]
  },
  {
   "cell_type": "code",
   "execution_count": null,
   "id": "1a61c7e7",
   "metadata": {},
   "outputs": [],
   "source": [
    "from skimage.restoration import inpaint\n",
    "\n",
    "#obtain the mask\n",
    "mask = get_mask(defected_image)\n",
    "\n",
    "#applying inpaiting to the damaged image using the mask\n",
    "restored_image = inpaint.inpaint_biharmonic(defected_image,\n",
    "                                           mask,\n",
    "                                           multichannel=True)\n",
    "\n",
    "#show\n",
    "show_image(defected_image, \"Image to Restore\")\n",
    "show_image(restored_image, \"Image Restored\")"
   ]
  },
  {
   "cell_type": "markdown",
   "id": "47bf88a4",
   "metadata": {},
   "source": [
    "example of a get_mask function"
   ]
  },
  {
   "attachments": {
    "image.png": {
     "image/png": "[encoded data removed]"
    }
   },
   "cell_type": "markdown",
   "id": "bf046023",
   "metadata": {},
   "source": [
    "![image.png](attachment:image.png)"
   ]
  },
  {
   "cell_type": "markdown",
   "id": "96eec7e6",
   "metadata": {},
   "source": [
    "### Noise"
   ]
  },
  {
   "cell_type": "markdown",
   "id": "f3d922c6",
   "metadata": {},
   "source": [
    "Images are signals \n",
    "   - real-world signals contain departures from the ideal signal (ie. the perfect image) as we observe with our eyes in real life, such departures are considered \"noise\"\n",
    "\n",
    "Noise is the result of errors in the image acquisition process that result in pixel values that do not reflect true intensities of the real scene."
   ]
  },
  {
   "cell_type": "markdown",
   "id": "a812156b",
   "metadata": {},
   "source": [
    "#### Salt and Pepper Noise"
   ]
  },
  {
   "cell_type": "code",
   "execution_count": null,
   "id": "c31c8761",
   "metadata": {},
   "outputs": [],
   "source": [
    "#adding random noise to an image\n",
    "\n",
    "from skimage.util import random_noise\n",
    "noisy_image = random_noise(image)\n",
    "\n",
    "#show\n",
    "show_image(image, \"Original\")\n",
    "show_image(noisy_image, \"Image with Noise\")"
   ]
  },
  {
   "cell_type": "markdown",
   "id": "5c77050e",
   "metadata": {},
   "source": [
    "#### Denoising Types"
   ]
  },
  {
   "cell_type": "markdown",
   "id": "3b4a88f2",
   "metadata": {},
   "source": [
    "- Total variation (TV)\n",
    "- Bilateral filtering (smooths imagees while maintaining edges)\n",
    "- Wavelet denoising\n",
    "- non-local means denoising"
   ]
  },
  {
   "cell_type": "markdown",
   "id": "22600c54",
   "metadata": {},
   "source": [
    "#### Total Variation"
   ]
  },
  {
   "cell_type": "code",
   "execution_count": null,
   "id": "08cb526c",
   "metadata": {},
   "outputs": [],
   "source": [
    "from skimage.restoration import denoise_tv_chambolle\n",
    "\n",
    "#apply total variation filter denoising\n",
    "denoised_image = denoise_tv_chambolle(noisy_image,\n",
    "                                     weight=0.1,\n",
    "                                     multichannel=True)\n",
    "\n",
    "#show\n",
    "show_image(noisy_image, \"Noisy Image\")\n",
    "show_image(denoised_image, \"Denoised Image\")"
   ]
  },
  {
   "cell_type": "markdown",
   "id": "add4d00c",
   "metadata": {},
   "source": [
    "#### Bilateral Denoising Filter"
   ]
  },
  {
   "cell_type": "code",
   "execution_count": null,
   "id": "29a78a20",
   "metadata": {},
   "outputs": [],
   "source": [
    "from skimage.restoration import denoise_bilateral\n",
    "\n",
    "#apply it\n",
    "denoised_image = denoise_bilatera(noisy_image, multichannel=True)\n",
    "\n",
    "#show\n",
    "show_image(noisy_image, \"Noisy Image\")\n",
    "show_image(denoised_image, \"Denoised Image\")"
   ]
  },
  {
   "cell_type": "markdown",
   "id": "f7a54ac9",
   "metadata": {},
   "source": [
    "### Segmentation & Superpixels"
   ]
  },
  {
   "cell_type": "markdown",
   "id": "7dfe0b6b",
   "metadata": {},
   "source": [
    "- separating foreground from background\n",
    "- a super pixel is a group of connected pixels with similar colors or gray levels\n",
    "- these carry more than their simple pixel grid counterparts"
   ]
  },
  {
   "cell_type": "markdown",
   "id": "6dd0c89f",
   "metadata": {},
   "source": [
    "#### Advantages of superpixels"
   ]
  },
  {
   "cell_type": "markdown",
   "id": "449c1ade",
   "metadata": {},
   "source": [
    "- 1 - more meaningful regions\n",
    "- 2 - computational efficiency"
   ]
  },
  {
   "cell_type": "markdown",
   "id": "9290bdcc",
   "metadata": {},
   "source": [
    "Types of Segmentation\n",
    "- supervised: ex, SLIC (Simple Linear Iterative Clustering)\n",
    "- unsupervised"
   ]
  },
  {
   "cell_type": "markdown",
   "id": "5d272139",
   "metadata": {},
   "source": [
    "### Finding Contours"
   ]
  },
  {
   "cell_type": "markdown",
   "id": "717782f0",
   "metadata": {},
   "source": [
    "- A **contours** is a closed shape of points or line segments, representing the boundaries of these objects. \n",
    "- Once contours are known: could identify and quantify objects in an image"
   ]
  },
  {
   "cell_type": "code",
   "execution_count": null,
   "id": "7cfe1fba",
   "metadata": {},
   "outputs": [],
   "source": [
    "#the image has to binary\n",
    "thesh = threshold_otsu(image)\n",
    "\n",
    "#apply thresholding\n",
    "thresholded_image = image > thresh"
   ]
  },
  {
   "cell_type": "markdown",
   "id": "8ebe140a",
   "metadata": {},
   "source": [
    "##### find_contours function"
   ]
  },
  {
   "cell_type": "markdown",
   "id": "977fd4df",
   "metadata": {},
   "source": [
    "- finds contour lines or joins points (pixels) of **equal elevation or brightness in a 2D array** above a given level value that best detects the contours"
   ]
  },
  {
   "cell_type": "code",
   "execution_count": null,
   "id": "4018300d",
   "metadata": {},
   "outputs": [],
   "source": [
    "controus = measure.find_contours(threshold_image, 0.8)"
   ]
  },
  {
   "cell_type": "markdown",
   "id": "0bb5c4a2",
   "metadata": {},
   "source": [
    "#### Steps to spotting contours"
   ]
  },
  {
   "cell_type": "code",
   "execution_count": null,
   "id": "76d3acd5",
   "metadata": {},
   "outputs": [],
   "source": [
    "#1 - import modules\n",
    "from skimage import measure\n",
    "from skimage.filters import threshold_otsu\n",
    "\n",
    "#2 - make the image grayscale\n",
    "image = color.rgb2gray(image)\n",
    "\n",
    "#3 - obtain the optimal thresh value of the image\n",
    "thresh = threshold_otsu(image)\n",
    "\n",
    "#4 - apply thresholding and obtain binary image\n",
    "threholded_image = image > thresh\n",
    "\n",
    "#5 - Find contours at a constant value of 0.8\n",
    "contours = measure.find_contours(threshold_image, 0.8)"
   ]
  },
  {
   "cell_type": "markdown",
   "id": "42b84c57",
   "metadata": {},
   "source": [
    "#### Contour's Shape"
   ]
  },
  {
   "cell_type": "markdown",
   "id": "240c2a44",
   "metadata": {},
   "source": [
    "- an outline formed by multiple points connected together\n",
    "- the **bigger** the contour, the more points joined together and the wider the perimeter formed"
   ]
  }
 ],
 "metadata": {
  "kernelspec": {
   "display_name": "Python 3 (ipykernel)",
   "language": "python",
   "name": "python3"
  },
  "language_info": {
   "codemirror_mode": {
    "name": "ipython",
    "version": 3
   },
   "file_extension": ".py",
   "mimetype": "text/x-python",
   "name": "python",
   "nbconvert_exporter": "python",
   "pygments_lexer": "ipython3",
   "version": "3.9.7"
  }
 },
 "nbformat": 4,
 "nbformat_minor": 5
}
