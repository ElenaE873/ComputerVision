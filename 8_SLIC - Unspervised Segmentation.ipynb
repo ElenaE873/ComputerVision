{
 "cells": [
  {
   "cell_type": "markdown",
   "id": "05aa45a9",
   "metadata": {},
   "source": [
    "### SLIC - Simple Linear Iterative Clustering"
   ]
  },
  {
   "cell_type": "markdown",
   "id": "894cc754",
   "metadata": {},
   "source": [
    "- Segments the image using a K-Means clutering machine learning algorithm\n",
    "- Takes in all the pixels values of the image and tries to separate them into a predefined number of sub-regions"
   ]
  },
  {
   "cell_type": "code",
   "execution_count": null,
   "id": "270fc456",
   "metadata": {},
   "outputs": [],
   "source": [
    "#import modules\n",
    "from skimage.segmentation import slic\n",
    "from skimage.color import label2rgb\n",
    "\n",
    "#obtains segments with slic function and default parameters\n",
    "segments = slic(image)  #aka: labels\n",
    "\n",
    "#segments on top of the original image to compare\n",
    "segmented_image = label2rgb(segments, #labels\n",
    "                            image, #the image\n",
    "                            kind='avg') #kind paramter to average\n",
    "#- this returns a <<resulting image>> where the segments obtained from slic will be highlighted\n",
    "        #- either with random colors OR avg color of the superpixel segment\n",
    "\n",
    "show_image(segmented_image)"
   ]
  }
 ],
 "metadata": {
  "kernelspec": {
   "display_name": "Python 3 (ipykernel)",
   "language": "python",
   "name": "python3"
  },
  "language_info": {
   "codemirror_mode": {
    "name": "ipython",
    "version": 3
   },
   "file_extension": ".py",
   "mimetype": "text/x-python",
   "name": "python",
   "nbconvert_exporter": "python",
   "pygments_lexer": "ipython3",
   "version": "3.9.7"
  }
 },
 "nbformat": 4,
 "nbformat_minor": 5
}
