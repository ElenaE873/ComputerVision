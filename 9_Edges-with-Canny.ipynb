{
 "cells": [
  {
   "cell_type": "markdown",
   "id": "868cf389",
   "metadata": {},
   "source": [
    "### Edge Detection"
   ]
  },
  {
   "cell_type": "markdown",
   "id": "5b2aca24",
   "metadata": {},
   "source": [
    "Used to:\n",
    "- divide the image into areas corresponding to different objects"
   ]
  },
  {
   "cell_type": "code",
   "execution_count": null,
   "id": "ce12efb7",
   "metadata": {},
   "outputs": [],
   "source": [
    "from skimage.feature import canny\n",
    "\n",
    "#conver image to grayscale\n",
    "gray_image = color.rgb2gray(image)\n",
    "\n",
    "#apply Canny detector\n",
    "canny_edges = canny(gray_image)\n",
    "\n",
    "#show\n",
    "show_image(canny_edges, \"Edges with Canny\")"
   ]
  },
  {
   "cell_type": "code",
   "execution_count": null,
   "id": "7226e398",
   "metadata": {},
   "outputs": [],
   "source": [
    "#apply a Gaussian Filter with a signma = 0.5\n",
    "canny_edges_0_5 = canny(image, sigma=0.5)"
   ]
  },
  {
   "cell_type": "markdown",
   "id": "c903183e",
   "metadata": {},
   "source": [
    "Gaussian sigma filter parameter\n",
    "- the lower the sigma value --> the less of a gaussian filter is applied on the image, so able to spot more edges\n",
    "- higher the value --> more noise will be removed and result is going to be less edgy image"
   ]
  }
 ],
 "metadata": {
  "kernelspec": {
   "display_name": "Python 3 (ipykernel)",
   "language": "python",
   "name": "python3"
  },
  "language_info": {
   "codemirror_mode": {
    "name": "ipython",
    "version": 3
   },
   "file_extension": ".py",
   "mimetype": "text/x-python",
   "name": "python",
   "nbconvert_exporter": "python",
   "pygments_lexer": "ipython3",
   "version": "3.9.7"
  }
 },
 "nbformat": 4,
 "nbformat_minor": 5
}
